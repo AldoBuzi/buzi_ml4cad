{
 "cells": [
  {
   "cell_type": "code",
   "execution_count": null,
   "metadata": {},
   "outputs": [],
   "source": [
    "import pandas as pd\n",
    "import sys\n",
    "import numpy as np\n",
    "import matplotlib.pyplot as plt\n",
    "from hyperparameters import hyperparameters\n",
    "import matplotlib as mpl\n",
    "\n",
    "from IPython.display import display\n",
    "plt.style.use('bmh')\n",
    "mpl.rcParams.update({\n",
    "    \"grid.linestyle\" : \"dashed\",\n",
    "    \"axes.facecolor\" : \"white\",\n",
    "    \"axes.spines.top\" : False,\n",
    "    \"axes.spines.right\" : False,\n",
    "    \"legend.frameon\" : False,\n",
    "    \"figure.figsize\" : (8, 5),\n",
    "    \"figure.dpi\" : 300,\n",
    "})\n",
    "%matplotlib inline\n",
    "\n",
    "# Suppress sklearn deprecated warnings\n",
    "import warnings\n",
    "def warn(*args, **kwargs): pass\n",
    "warnings.warn = warn\n",
    "np.set_printoptions(threshold=sys.maxsize)\n",
    "\n",
    "np.random.seed(42)"
   ]
  },
  {
   "cell_type": "code",
   "execution_count": null,
   "metadata": {},
   "outputs": [],
   "source": [
    "# TODO make test for dataset with creatina column\n",
    "# Dataset without thyroid = 18 features (including survive7y)\n",
    "# Dataset with thyroid = 27 features (including survive7y)\n",
    "# With columns that have missing values, 23 and 32\n",
    "# Default 18\n",
    "n_features = 18\n",
    "extra_path = n_features != 27 and n_features != 18\n",
    "dropped_na_key = \"dropped_na/\"\n",
    "mean_key = \"mean/\"\n",
    "path = f\"data/{n_features}features/{mean_key if extra_path else '' }\"\n",
    "path_models = f\"models/{n_features}features/{mean_key if extra_path else '' }\"\n",
    "output_models = f\"models_output/{n_features}features/{mean_key if extra_path else '' }\"\n",
    "print(path_models)\n",
    "print(path)"
   ]
  },
  {
   "cell_type": "code",
   "execution_count": null,
   "metadata": {},
   "outputs": [],
   "source": [
    "# Read data\n",
    "df_train = pd.read_csv(f\"{path}train.csv\", index_col=0)\n",
    "df_valid = pd.read_csv(f\"{path}valid.csv\", index_col=0)\n",
    "df_test = pd.read_csv(f\"{path}test.csv\", index_col=0)\n",
    "print(len(df_train) + len(df_valid) + len(df_test))\n",
    "print(len(df_train.columns))\n",
    "\n",
    "\n",
    "train, valid, test = df_train.to_numpy(), df_valid.to_numpy(), df_test.to_numpy()\n",
    "\n",
    "# y_**** contains the value of Survive7y as a list\n",
    "# X_**** contains everything except for Survive7y as a list of list\n",
    "X_train, y_train = train[:, :-1], train[:, -1]\n",
    "X_valid, y_valid = valid[:, :-1], valid[:, -1]\n",
    "X_test, y_test = test[:, :-1], test[:, -1]\n",
    "feat_names = list(df_train.columns)\n",
    "# Print how Survive7y are distribuited in each set\n",
    "from collections import Counter\n",
    "print(Counter(y_train))\n",
    "print(Counter(y_valid))\n",
    "print(Counter(y_test))\n",
    "\n",
    "# All the numerical features that can be standardized\n",
    "from utils import get_preprocess_std_num\n",
    "preprocess_std = get_preprocess_std_num(feat_names)\n",
    "\n",
    "\n",
    "# Preprocessed ready-to-use train and valid set\n",
    "process_tmp = preprocess_std.fit(X_train)\n",
    "X_train_std = process_tmp.transform(X_train)\n",
    "X_valid_std = process_tmp.transform(X_valid)\n",
    "\n",
    "#If you want to print the resulting df\n",
    "#df_scaled = pd.DataFrame(X_train_std,columns = preprocess_std.get_feature_names_out())\n",
    "#display(df_scaled)"
   ]
  },
  {
   "attachments": {},
   "cell_type": "markdown",
   "metadata": {},
   "source": [
    "### Training\n"
   ]
  },
  {
   "cell_type": "code",
   "execution_count": null,
   "metadata": {},
   "outputs": [],
   "source": [
    "from functools import partial\n",
    "from train import report, evaluate, train_and_evaluate\n",
    "\n",
    "train_partial = partial(\n",
    "    train_and_evaluate, \n",
    "    preprocess_std, \n",
    "    X_train=X_train,\n",
    "    y_train=y_train,\n",
    "    X_valid=X_valid,\n",
    "    y_valid=y_valid,\n",
    "    scoring=\"f1_macro\", \n",
    "    iter=5000, \n",
    "    save=True,\n",
    "    path_models = path_models,\n",
    "    output_models = output_models\n",
    ")"
   ]
  },
  {
   "cell_type": "code",
   "execution_count": null,
   "metadata": {},
   "outputs": [],
   "source": [
    "from sklearn.linear_model import LogisticRegression\n",
    "\n",
    "hyperparams = hyperparameters[\"lr\"] \n",
    "#Default is None (thus weight = 1). Balanced uses the formula n_samples / (n_classes * np.bincount(y))\n",
    "model = LogisticRegression(class_weight=\"balanced\")\n",
    "train_partial(model=model, hyperparams=hyperparams, savename=\"lr\")\n",
    "# metrics.plot_roc_curve(pipe, X_valid, y_valid)\n",
    "\n",
    "# import math\n",
    "# w = logreg.coef_[0]\n",
    "# feature_importance = pd.DataFrame(df_feat.columns[:-1], columns=[\"features\"])\n",
    "# feature_importance[\"importance\"] = pow(math.e, w)\n",
    "# feature_importance = feature_importance.sort_values(by = [\"importance\"], ascending=False)\n",
    "# feature_importance"
   ]
  },
  {
   "cell_type": "code",
   "execution_count": null,
   "metadata": {},
   "outputs": [],
   "source": [
    "from sklearn.svm import SVC\n",
    "hyperparams = hyperparameters[\"svc\"] \n",
    "\n",
    "model = SVC(class_weight=\"balanced\", probability=True)\n",
    "train_partial(model=model, hyperparams=hyperparams, savename=\"svc\")"
   ]
  },
  {
   "cell_type": "code",
   "execution_count": null,
   "metadata": {},
   "outputs": [],
   "source": [
    "from sklearn.neighbors import KNeighborsClassifier\n",
    "\n",
    "hyperparams = hyperparameters[\"knn\"] \n",
    "\n",
    "model = KNeighborsClassifier()\n",
    "train_partial(model=model, hyperparams=hyperparams, savename=\"knn\")"
   ]
  },
  {
   "cell_type": "code",
   "execution_count": null,
   "metadata": {},
   "outputs": [],
   "source": [
    "from sklearn.ensemble import RandomForestClassifier\n",
    "\n",
    "hyperparams = hyperparameters[\"rf\"] \n",
    "\n",
    "model = RandomForestClassifier()\n",
    "train_partial(model=model, hyperparams=hyperparams, savename=\"rf\")\n",
    "\n",
    "# feature importance use permutation importance\n",
    "# importance = rf_rand.best_estimator_[\"model\"].feature_importances_\n",
    "# plt.bar(list(range(len(importance))), importance)"
   ]
  },
  {
   "cell_type": "code",
   "execution_count": null,
   "metadata": {},
   "outputs": [],
   "source": [
    "from sklearn.ensemble import AdaBoostClassifier\n",
    "from sklearn.tree import DecisionTreeClassifier\n",
    "\n",
    "hyperparams = hyperparameters[\"adaboost\"] \n",
    "\n",
    "model = AdaBoostClassifier()\n",
    "train_partial(model=model, hyperparams=hyperparams, savename=\"adaboost\")"
   ]
  },
  {
   "cell_type": "code",
   "execution_count": null,
   "metadata": {},
   "outputs": [],
   "source": [
    "from sklearn.neural_network import MLPClassifier\n",
    "import random\n",
    "\n",
    "hyperparams = hyperparameters[\"nn\"] \n",
    "\n",
    "model = MLPClassifier()\n",
    "train_partial(model=model, hyperparams=hyperparams, savename=\"nn\")"
   ]
  },
  {
   "cell_type": "code",
   "execution_count": null,
   "metadata": {},
   "outputs": [],
   "source": [
    "from sklearn.ensemble import GradientBoostingClassifier\n",
    "\n",
    "hyperparams = hyperparameters[\"gb\"] \n",
    "\n",
    "model = GradientBoostingClassifier()\n",
    "train_partial(model=model, hyperparams=hyperparams, savename=\"gb\")"
   ]
  },
  {
   "cell_type": "code",
   "execution_count": null,
   "metadata": {},
   "outputs": [],
   "source": [
    "#Don't run this in jupyter within vscode, run this with notebooks within browsers.\n",
    "import os\n",
    "#os.environ['KMP_DUPLICATE_LIB_OK']='True'\n",
    "\n",
    "import xgboost as xgb\n",
    "\n",
    "hyperparams = hyperparameters[\"xgb\"] \n",
    "\n",
    "model = xgb.XGBClassifier(n_jobs=1)\n",
    "train_partial(model=model, hyperparams=hyperparams, savename=\"xgb\")"
   ]
  }
 ],
 "metadata": {
  "kernelspec": {
   "display_name": "Python 3 (ipykernel)",
   "language": "python",
   "name": "python3"
  },
  "language_info": {
   "codemirror_mode": {
    "name": "ipython",
    "version": 3
   },
   "file_extension": ".py",
   "mimetype": "text/x-python",
   "name": "python",
   "nbconvert_exporter": "python",
   "pygments_lexer": "ipython3",
   "version": "3.8.5"
  }
 },
 "nbformat": 4,
 "nbformat_minor": 4
}
